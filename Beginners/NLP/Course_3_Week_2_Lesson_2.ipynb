{
  "cells": [
    {
      "cell_type": "code",
      "execution_count": null,
      "metadata": {
        "id": "zX4Kg8DUTKWO"
      },
      "outputs": [],
      "source": [
        "#@title Licensed under the Apache License, Version 2.0 (the \"License\");\n",
        "# you may not use this file except in compliance with the License.\n",
        "# You may obtain a copy of the License at\n",
        "#\n",
        "# https://www.apache.org/licenses/LICENSE-2.0\n",
        "#\n",
        "# Unless required by applicable law or agreed to in writing, software\n",
        "# distributed under the License is distributed on an \"AS IS\" BASIS,\n",
        "# WITHOUT WARRANTIES OR CONDITIONS OF ANY KIND, either express or implied.\n",
        "# See the License for the specific language governing permissions and\n",
        "# limitations under the License."
      ]
    },
    {
      "cell_type": "markdown",
      "metadata": {
        "id": "view-in-github"
      },
      "source": [
        "<a href=\"https://colab.research.google.com/github/lmoroney/dlaicourse/blob/master/TensorFlow%20In%20Practice/Course%203%20-%20NLP/Course%203%20-%20Week%202%20-%20Lesson%202.ipynb\" target=\"_parent\"><img src=\"https://colab.research.google.com/assets/colab-badge.svg\" alt=\"Open In Colab\"/></a>"
      ]
    },
    {
      "cell_type": "code",
      "execution_count": 22,
      "metadata": {
        "id": "4gs9htvM7n_x"
      },
      "outputs": [],
      "source": [
        "# Run this to ensure TensorFlow 2.x is used\n",
        "try:\n",
        "  # %tensorflow_version only exists in Colab.\n",
        "  %tensorflow_version 2.x\n",
        "except Exception:\n",
        "  pass"
      ]
    },
    {
      "cell_type": "code",
      "execution_count": 29,
      "metadata": {
        "id": "XYYDvoskkE61"
      },
      "outputs": [],
      "source": [
        "import json\n",
        "import tensorflow as tf\n",
        "\n",
        "from tensorflow.keras.preprocessing.text import Tokenizer\n",
        "from tensorflow.keras.preprocessing.sequence import pad_sequences\n",
        "\n",
        "from tensorflow.keras import layers\n",
        "from tensorflow.keras import losses\n",
        "from tensorflow.keras import utils\n",
        "from tensorflow.keras.layers import TextVectorization"
      ]
    },
    {
      "cell_type": "code",
      "execution_count": 30,
      "metadata": {
        "id": "0eJSTTYnkJQd"
      },
      "outputs": [],
      "source": [
        "vocab_size = 10000\n",
        "embedding_dim = 16\n",
        "max_length = 100\n",
        "trunc_type='post'\n",
        "padding_type='post'\n",
        "oov_tok = \"<OOV>\"\n",
        "training_size = 20000\n"
      ]
    },
    {
      "cell_type": "code",
      "execution_count": 31,
      "metadata": {
        "id": "BQVuQrZNkPn9"
      },
      "outputs": [],
      "source": [
        "# !wget --no-check-certificate \\\n",
        "#    https://storage.googleapis.com/laurencemoroney-blog.appspot.com/sarcasm.json \\\n",
        "#    -O /tmp/sarcasm.json\n"
      ]
    },
    {
      "cell_type": "code",
      "execution_count": 32,
      "metadata": {
        "id": "oaLaaqhNkUPd"
      },
      "outputs": [],
      "source": [
        "with open(\"sarcasm.json\", 'r') as f:\n",
        "    datastore = json.load(f)\n",
        "\n",
        "sentences = []\n",
        "labels = []\n",
        "\n",
        "for item in datastore:\n",
        "    sentences.append(item['headline'])\n",
        "    labels.append(item['is_sarcastic'])"
      ]
    },
    {
      "cell_type": "code",
      "execution_count": 46,
      "metadata": {
        "id": "S1sD-7v0kYWk"
      },
      "outputs": [],
      "source": [
        "training_sentences = sentences[0:training_size]\n",
        "testing_sentences = sentences[training_size:]\n",
        "training_labels = labels[0:training_size]\n",
        "testing_labels = labels[training_size:]"
      ]
    },
    {
      "cell_type": "code",
      "execution_count": 17,
      "metadata": {
        "id": "3u8UB0MCkZ5N"
      },
      "outputs": [],
      "source": [
        "tokenizer = Tokenizer(num_words=vocab_size, oov_token=oov_tok)\n",
        "tokenizer.fit_on_texts(training_sentences)\n",
        "\n",
        "word_index = tokenizer.word_index\n",
        "\n",
        "training_sequences = tokenizer.texts_to_sequences(training_sentences)\n",
        "training_padded = pad_sequences(training_sequences, maxlen=max_length, padding=padding_type, truncating=trunc_type)\n",
        "\n",
        "testing_sequences = tokenizer.texts_to_sequences(testing_sentences)\n",
        "testing_padded = pad_sequences(testing_sequences, maxlen=max_length, padding=padding_type, truncating=trunc_type)"
      ]
    },
    {
      "cell_type": "code",
      "execution_count": 18,
      "metadata": {
        "id": "GrAlWBKf99Ya"
      },
      "outputs": [],
      "source": [
        "# Need this block to get it to work with TensorFlow 2.x\n",
        "import numpy as np\n",
        "training_padded = np.array(training_padded)\n",
        "training_labels = np.array(training_labels)\n",
        "testing_padded = np.array(testing_padded)\n",
        "testing_labels = np.array(testing_labels)"
      ]
    },
    {
      "cell_type": "code",
      "execution_count": 19,
      "metadata": {
        "id": "FufaT4vlkiDE"
      },
      "outputs": [],
      "source": [
        "model = tf.keras.Sequential([\n",
        "    tf.keras.layers.Embedding(vocab_size, embedding_dim, input_length=max_length),\n",
        "    tf.keras.layers.GlobalAveragePooling1D(),\n",
        "    tf.keras.layers.Dense(24, activation='relu'),\n",
        "    tf.keras.layers.Dense(1, activation='sigmoid')\n",
        "])\n",
        "model.compile(loss='binary_crossentropy',optimizer='adam',metrics=['accuracy'])"
      ]
    },
    {
      "cell_type": "code",
      "execution_count": 20,
      "metadata": {
        "id": "XfDt1hmYkiys"
      },
      "outputs": [
        {
          "name": "stdout",
          "output_type": "stream",
          "text": [
            "Model: \"sequential_1\"\n",
            "_________________________________________________________________\n",
            " Layer (type)                Output Shape              Param #   \n",
            "=================================================================\n",
            " embedding_1 (Embedding)     (None, 100, 16)           160000    \n",
            "                                                                 \n",
            " global_average_pooling1d_1   (None, 16)               0         \n",
            " (GlobalAveragePooling1D)                                        \n",
            "                                                                 \n",
            " dense_2 (Dense)             (None, 24)                408       \n",
            "                                                                 \n",
            " dense_3 (Dense)             (None, 1)                 25        \n",
            "                                                                 \n",
            "=================================================================\n",
            "Total params: 160,433\n",
            "Trainable params: 160,433\n",
            "Non-trainable params: 0\n",
            "_________________________________________________________________\n"
          ]
        }
      ],
      "source": [
        "model.summary()\n"
      ]
    },
    {
      "cell_type": "code",
      "execution_count": 21,
      "metadata": {
        "id": "2DTKQFf1kkyc"
      },
      "outputs": [
        {
          "name": "stdout",
          "output_type": "stream",
          "text": [
            "Epoch 1/30\n",
            "625/625 - 2s - loss: 0.6659 - accuracy: 0.5849 - val_loss: 0.6022 - val_accuracy: 0.6326 - 2s/epoch - 3ms/step\n",
            "Epoch 2/30\n",
            "625/625 - 1s - loss: 0.4519 - accuracy: 0.8229 - val_loss: 0.4085 - val_accuracy: 0.8161 - 1s/epoch - 2ms/step\n",
            "Epoch 3/30\n",
            "625/625 - 1s - loss: 0.3215 - accuracy: 0.8716 - val_loss: 0.3592 - val_accuracy: 0.8465 - 1s/epoch - 2ms/step\n",
            "Epoch 4/30\n",
            "625/625 - 1s - loss: 0.2673 - accuracy: 0.8957 - val_loss: 0.3428 - val_accuracy: 0.8577 - 1s/epoch - 2ms/step\n",
            "Epoch 5/30\n",
            "625/625 - 1s - loss: 0.2316 - accuracy: 0.9103 - val_loss: 0.3434 - val_accuracy: 0.8529 - 1s/epoch - 2ms/step\n",
            "Epoch 6/30\n",
            "625/625 - 1s - loss: 0.2030 - accuracy: 0.9222 - val_loss: 0.3515 - val_accuracy: 0.8505 - 1s/epoch - 2ms/step\n",
            "Epoch 7/30\n",
            "625/625 - 1s - loss: 0.1810 - accuracy: 0.9326 - val_loss: 0.3678 - val_accuracy: 0.8477 - 1s/epoch - 2ms/step\n",
            "Epoch 8/30\n",
            "625/625 - 1s - loss: 0.1623 - accuracy: 0.9399 - val_loss: 0.3707 - val_accuracy: 0.8536 - 1s/epoch - 2ms/step\n",
            "Epoch 9/30\n",
            "625/625 - 1s - loss: 0.1469 - accuracy: 0.9478 - val_loss: 0.3831 - val_accuracy: 0.8541 - 1s/epoch - 2ms/step\n",
            "Epoch 10/30\n",
            "625/625 - 1s - loss: 0.1338 - accuracy: 0.9525 - val_loss: 0.4004 - val_accuracy: 0.8524 - 1s/epoch - 2ms/step\n",
            "Epoch 11/30\n",
            "625/625 - 1s - loss: 0.1220 - accuracy: 0.9580 - val_loss: 0.4214 - val_accuracy: 0.8495 - 1s/epoch - 2ms/step\n",
            "Epoch 12/30\n",
            "625/625 - 1s - loss: 0.1110 - accuracy: 0.9625 - val_loss: 0.4474 - val_accuracy: 0.8451 - 936ms/epoch - 1ms/step\n",
            "Epoch 13/30\n",
            "625/625 - 1s - loss: 0.1019 - accuracy: 0.9646 - val_loss: 0.4653 - val_accuracy: 0.8468 - 1s/epoch - 2ms/step\n",
            "Epoch 14/30\n",
            "625/625 - 1s - loss: 0.0941 - accuracy: 0.9683 - val_loss: 0.4946 - val_accuracy: 0.8404 - 988ms/epoch - 2ms/step\n",
            "Epoch 15/30\n",
            "625/625 - 1s - loss: 0.0863 - accuracy: 0.9715 - val_loss: 0.5389 - val_accuracy: 0.8343 - 1s/epoch - 2ms/step\n",
            "Epoch 16/30\n",
            "625/625 - 1s - loss: 0.0781 - accuracy: 0.9746 - val_loss: 0.5495 - val_accuracy: 0.8374 - 987ms/epoch - 2ms/step\n",
            "Epoch 17/30\n",
            "625/625 - 1s - loss: 0.0724 - accuracy: 0.9761 - val_loss: 0.5710 - val_accuracy: 0.8375 - 1s/epoch - 2ms/step\n",
            "Epoch 18/30\n",
            "625/625 - 1s - loss: 0.0665 - accuracy: 0.9783 - val_loss: 0.6034 - val_accuracy: 0.8347 - 1s/epoch - 2ms/step\n",
            "Epoch 19/30\n",
            "625/625 - 1s - loss: 0.0607 - accuracy: 0.9801 - val_loss: 0.6328 - val_accuracy: 0.8329 - 1s/epoch - 2ms/step\n",
            "Epoch 20/30\n",
            "625/625 - 1s - loss: 0.0582 - accuracy: 0.9815 - val_loss: 0.6713 - val_accuracy: 0.8274 - 1s/epoch - 2ms/step\n",
            "Epoch 21/30\n",
            "625/625 - 1s - loss: 0.0539 - accuracy: 0.9839 - val_loss: 0.6955 - val_accuracy: 0.8287 - 1s/epoch - 2ms/step\n",
            "Epoch 22/30\n",
            "625/625 - 1s - loss: 0.0489 - accuracy: 0.9848 - val_loss: 0.7540 - val_accuracy: 0.8225 - 1s/epoch - 2ms/step\n",
            "Epoch 23/30\n",
            "625/625 - 1s - loss: 0.0435 - accuracy: 0.9872 - val_loss: 0.8314 - val_accuracy: 0.8179 - 1s/epoch - 2ms/step\n",
            "Epoch 24/30\n",
            "625/625 - 1s - loss: 0.0411 - accuracy: 0.9884 - val_loss: 0.7985 - val_accuracy: 0.8216 - 1s/epoch - 2ms/step\n",
            "Epoch 25/30\n",
            "625/625 - 1s - loss: 0.0387 - accuracy: 0.9888 - val_loss: 0.8421 - val_accuracy: 0.8189 - 1s/epoch - 2ms/step\n",
            "Epoch 26/30\n",
            "625/625 - 1s - loss: 0.0354 - accuracy: 0.9900 - val_loss: 0.8665 - val_accuracy: 0.8195 - 937ms/epoch - 1ms/step\n",
            "Epoch 27/30\n",
            "625/625 - 1s - loss: 0.0330 - accuracy: 0.9904 - val_loss: 0.9082 - val_accuracy: 0.8140 - 982ms/epoch - 2ms/step\n",
            "Epoch 28/30\n",
            "625/625 - 1s - loss: 0.0307 - accuracy: 0.9912 - val_loss: 0.9536 - val_accuracy: 0.8131 - 998ms/epoch - 2ms/step\n",
            "Epoch 29/30\n",
            "625/625 - 1s - loss: 0.0285 - accuracy: 0.9917 - val_loss: 1.0034 - val_accuracy: 0.8138 - 961ms/epoch - 2ms/step\n",
            "Epoch 30/30\n",
            "625/625 - 1s - loss: 0.0259 - accuracy: 0.9931 - val_loss: 1.0001 - val_accuracy: 0.8141 - 949ms/epoch - 2ms/step\n"
          ]
        }
      ],
      "source": [
        "num_epochs = 30\n",
        "history = model.fit(training_padded, training_labels, epochs=num_epochs, validation_data=(testing_padded, testing_labels), verbose=2)"
      ]
    },
    {
      "cell_type": "code",
      "execution_count": 11,
      "metadata": {
        "id": "2HYfBKXjkmU8"
      },
      "outputs": [
        {
          "data": {
            "image/png": "[encoded data removed]",
            "text/plain": [
              "<Figure size 640x480 with 1 Axes>"
            ]
          },
          "metadata": {},
          "output_type": "display_data"
        },
        {
          "data": {
            "image/png": "[encoded data removed]",
            "text/plain": [
              "<Figure size 640x480 with 1 Axes>"
            ]
          },
          "metadata": {},
          "output_type": "display_data"
        }
      ],
      "source": [
        "import matplotlib.pyplot as plt\n",
        "\n",
        "\n",
        "def plot_graphs(history, string):\n",
        "  plt.plot(history.history[string])\n",
        "  plt.plot(history.history['val_'+string])\n",
        "  plt.xlabel(\"Epochs\")\n",
        "  plt.ylabel(string)\n",
        "  plt.legend([string, 'val_'+string])\n",
        "  plt.show()\n",
        "  \n",
        "plot_graphs(history, \"accuracy\")\n",
        "plot_graphs(history, \"loss\")"
      ]
    },
    {
      "cell_type": "code",
      "execution_count": 24,
      "metadata": {
        "id": "7SBdAZAenvzL"
      },
      "outputs": [
        {
          "name": "stdout",
          "output_type": "stream",
          "text": [
            "former <OOV> store clerk sues over secret 'black <OOV> for minority shoppers ? ? ? ? ? ? ? ? ? ? ? ? ? ? ? ? ? ? ? ? ? ? ? ? ? ? ? ? ? ? ? ? ? ? ? ? ? ? ? ? ? ? ? ? ? ? ? ? ? ? ? ? ? ? ? ? ? ? ? ? ? ? ? ? ? ? ? ? ? ? ? ? ? ? ? ? ? ? ? ? ? ? ? ? ? ? ? ?\n",
            "mom starting to fear son's web series closest thing she will have to grandchild\n",
            "1\n"
          ]
        }
      ],
      "source": [
        "reverse_word_index = dict([(value, key) for (key, value) in word_index.items()])\n",
        "\n",
        "def decode_sentence(text):\n",
        "    return ' '.join([reverse_word_index.get(i, '?') for i in text])\n",
        "\n",
        "print(decode_sentence(training_padded[0]))\n",
        "print(training_sentences[2])\n",
        "print(labels[2])"
      ]
    },
    {
      "cell_type": "code",
      "execution_count": 25,
      "metadata": {
        "id": "c9MqihtEkzQ9"
      },
      "outputs": [
        {
          "name": "stdout",
          "output_type": "stream",
          "text": [
            "(10000, 16)\n"
          ]
        }
      ],
      "source": [
        "e = model.layers[0]\n",
        "weights = e.get_weights()[0]\n",
        "print(weights.shape) # shape: (vocab_size, embedding_dim)\n"
      ]
    },
    {
      "cell_type": "code",
      "execution_count": 26,
      "metadata": {
        "id": "LoBXVffknldU"
      },
      "outputs": [],
      "source": [
        "import io\n",
        "\n",
        "out_v = io.open('vecs.tsv', 'w', encoding='utf-8')\n",
        "out_m = io.open('meta.tsv', 'w', encoding='utf-8')\n",
        "for word_num in range(1, vocab_size):\n",
        "  word = reverse_word_index[word_num]\n",
        "  embeddings = weights[word_num]\n",
        "  out_m.write(word + \"\\n\")\n",
        "  out_v.write('\\t'.join([str(x) for x in embeddings]) + \"\\n\")\n",
        "out_v.close()\n",
        "out_m.close()"
      ]
    },
    {
      "cell_type": "code",
      "execution_count": 27,
      "metadata": {
        "id": "U4eZ5HtVnnEE"
      },
      "outputs": [],
      "source": [
        "try:\n",
        "  from google.colab import files\n",
        "except ImportError:\n",
        "  pass\n",
        "else:\n",
        "  files.download('vecs.tsv')\n",
        "  files.download('meta.tsv')"
      ]
    },
    {
      "cell_type": "code",
      "execution_count": 19,
      "metadata": {
        "id": "cG8-ArY-qDcz"
      },
      "outputs": [
        {
          "name": "stdout",
          "output_type": "stream",
          "text": [
            "1/1 [==============================] - 0s 27ms/step\n",
            "[[9.5555925e-01]\n",
            " [1.2005205e-05]]\n"
          ]
        }
      ],
      "source": [
        "sentence = [\"granny starting to fear spiders in the garden might be real\", \"game of thrones season finale showing this sunday night\"]\n",
        "sequences = tokenizer.texts_to_sequences(sentence)\n",
        "padded = pad_sequences(sequences, maxlen=max_length, padding=padding_type, truncating=trunc_type)\n",
        "print(model.predict(padded))"
      ]
    }
  ],
  "metadata": {
    "accelerator": "GPU",
    "colab": {
      "collapsed_sections": [],
      "name": "Course 3 - Week 2 - Lesson 2.ipynb",
      "provenance": [],
      "toc_visible": true
    },
    "kernelspec": {
      "display_name": "Python 3.8.13 ('testwebapps')",
      "language": "python",
      "name": "python3"
    },
    "language_info": {
      "codemirror_mode": {
        "name": "ipython",
        "version": 3
      },
      "file_extension": ".py",
      "mimetype": "text/x-python",
      "name": "python",
      "nbconvert_exporter": "python",
      "pygments_lexer": "ipython3",
      "version": "3.8.13"
    },
    "vscode": {
      "interpreter": {
        "hash": "e8ed793b7e8cc3f131826b958c2ef0dc714f8054aba1686829c66364b88513ed"
      }
    }
  },
  "nbformat": 4,
  "nbformat_minor": 0
}
