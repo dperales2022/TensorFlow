{
 "cells": [
  {
   "cell_type": "markdown",
   "metadata": {},
   "source": [
    "# 0. Import Data"
   ]
  },
  {
   "cell_type": "code",
   "execution_count": 1,
   "metadata": {},
   "outputs": [],
   "source": [
    "import pandas as pd\n",
    "from sklearn.model_selection import train_test_split"
   ]
  },
  {
   "cell_type": "code",
   "execution_count": 2,
   "metadata": {},
   "outputs": [],
   "source": [
    "df = pd.read_csv('Churn.csv')"
   ]
  },
  {
   "cell_type": "code",
   "execution_count": 3,
   "metadata": {},
   "outputs": [],
   "source": [
    "X = pd.get_dummies(df.drop(['Churn', 'Customer ID'], axis=1))\n",
    "y = df['Churn'].apply(lambda x: 1 if x=='Yes' else 0)"
   ]
  },
  {
   "cell_type": "code",
   "execution_count": 4,
   "metadata": {},
   "outputs": [],
   "source": [
    "X_train, X_test, y_train, y_test = train_test_split(X, y, test_size=.2)"
   ]
  },
  {
   "cell_type": "code",
   "execution_count": 19,
   "metadata": {},
   "outputs": [
    {
     "data": {
      "text/plain": [
       "2231    0\n",
       "1091    0\n",
       "6409    1\n",
       "3397    0\n",
       "4572    0\n",
       "Name: Churn, dtype: int64"
      ]
     },
     "execution_count": 19,
     "metadata": {},
     "output_type": "execute_result"
    }
   ],
   "source": [
    "y_train.head()"
   ]
  },
  {
   "cell_type": "markdown",
   "metadata": {},
   "source": [
    "# 1. Import Dependencies"
   ]
  },
  {
   "cell_type": "code",
   "execution_count": 6,
   "metadata": {},
   "outputs": [],
   "source": [
    "from tensorflow.keras.models import Sequential, load_model\n",
    "from tensorflow.keras.layers import Dense\n",
    "from sklearn.metrics import accuracy_score"
   ]
  },
  {
   "cell_type": "markdown",
   "metadata": {},
   "source": [
    "# 2. Build and Compile Model"
   ]
  },
  {
   "cell_type": "code",
   "execution_count": 7,
   "metadata": {},
   "outputs": [],
   "source": [
    "model = Sequential()\n",
    "model.add(Dense(units=32, activation='relu', input_dim=len(X_train.columns)))\n",
    "model.add(Dense(units=64, activation='relu'))\n",
    "model.add(Dense(units=1, activation='sigmoid'))"
   ]
  },
  {
   "cell_type": "code",
   "execution_count": 8,
   "metadata": {},
   "outputs": [],
   "source": [
    "model.compile(loss='binary_crossentropy', optimizer='sgd', metrics='accuracy')"
   ]
  },
  {
   "cell_type": "markdown",
   "metadata": {},
   "source": [
    "# 3. Fit, Predict and Evaluate"
   ]
  },
  {
   "cell_type": "code",
   "execution_count": 9,
   "metadata": {
    "collapsed": true
   },
   "outputs": [
    {
     "name": "stdout",
     "output_type": "stream",
     "text": [
      "Epoch 1/200\n",
      "177/177 [==============================] - 3s 6ms/step - loss: 0.5171 - accuracy: 0.7476\n",
      "Epoch 2/200\n",
      "177/177 [==============================] - 1s 6ms/step - loss: 0.4951 - accuracy: 0.7638\n",
      "Epoch 3/200\n",
      "177/177 [==============================] - 1s 6ms/step - loss: 0.4912 - accuracy: 0.7670\n",
      "Epoch 4/200\n",
      "177/177 [==============================] - 1s 6ms/step - loss: 0.4824 - accuracy: 0.7775\n",
      "Epoch 5/200\n",
      "177/177 [==============================] - 1s 6ms/step - loss: 0.4785 - accuracy: 0.7741\n",
      "Epoch 6/200\n",
      "177/177 [==============================] - 1s 6ms/step - loss: 0.4766 - accuracy: 0.7780\n",
      "Epoch 7/200\n",
      "177/177 [==============================] - 1s 6ms/step - loss: 0.4714 - accuracy: 0.7828\n",
      "Epoch 8/200\n",
      "177/177 [==============================] - 1s 5ms/step - loss: 0.4701 - accuracy: 0.7794\n",
      "Epoch 9/200\n",
      "177/177 [==============================] - 1s 5ms/step - loss: 0.4741 - accuracy: 0.7792\n",
      "Epoch 10/200\n",
      "177/177 [==============================] - 1s 5ms/step - loss: 0.4692 - accuracy: 0.7755\n",
      "Epoch 11/200\n",
      "177/177 [==============================] - 1s 5ms/step - loss: 0.4661 - accuracy: 0.7778\n",
      "Epoch 12/200\n",
      "177/177 [==============================] - 1s 5ms/step - loss: 0.4678 - accuracy: 0.7760\n",
      "Epoch 13/200\n",
      "177/177 [==============================] - 1s 5ms/step - loss: 0.4647 - accuracy: 0.7799\n",
      "Epoch 14/200\n",
      "177/177 [==============================] - 1s 5ms/step - loss: 0.4655 - accuracy: 0.7821\n",
      "Epoch 15/200\n",
      "177/177 [==============================] - 1s 5ms/step - loss: 0.4598 - accuracy: 0.7801\n",
      "Epoch 16/200\n",
      "177/177 [==============================] - 1s 6ms/step - loss: 0.4609 - accuracy: 0.7782\n",
      "Epoch 17/200\n",
      "177/177 [==============================] - 1s 6ms/step - loss: 0.4603 - accuracy: 0.7854\n",
      "Epoch 18/200\n",
      "177/177 [==============================] - 1s 6ms/step - loss: 0.4608 - accuracy: 0.7808\n",
      "Epoch 19/200\n",
      "177/177 [==============================] - 1s 5ms/step - loss: 0.4617 - accuracy: 0.7837\n",
      "Epoch 20/200\n",
      "177/177 [==============================] - 1s 5ms/step - loss: 0.4584 - accuracy: 0.7796\n",
      "Epoch 21/200\n",
      "177/177 [==============================] - 1s 5ms/step - loss: 0.4644 - accuracy: 0.7814\n",
      "Epoch 22/200\n",
      "177/177 [==============================] - 1s 5ms/step - loss: 0.4554 - accuracy: 0.7878\n",
      "Epoch 23/200\n",
      "177/177 [==============================] - 1s 5ms/step - loss: 0.4645 - accuracy: 0.7851\n",
      "Epoch 24/200\n",
      "177/177 [==============================] - 1s 5ms/step - loss: 0.4582 - accuracy: 0.7808\n",
      "Epoch 25/200\n",
      "177/177 [==============================] - 1s 5ms/step - loss: 0.4586 - accuracy: 0.7796\n",
      "Epoch 26/200\n",
      "177/177 [==============================] - 1s 5ms/step - loss: 0.4573 - accuracy: 0.7805\n",
      "Epoch 27/200\n",
      "177/177 [==============================] - 1s 5ms/step - loss: 0.4559 - accuracy: 0.7839\n",
      "Epoch 28/200\n",
      "177/177 [==============================] - 1s 6ms/step - loss: 0.4531 - accuracy: 0.7840\n",
      "Epoch 29/200\n",
      "177/177 [==============================] - 1s 5ms/step - loss: 0.4546 - accuracy: 0.7844\n",
      "Epoch 30/200\n",
      "177/177 [==============================] - 1s 5ms/step - loss: 0.4524 - accuracy: 0.7842\n",
      "Epoch 31/200\n",
      "177/177 [==============================] - 1s 5ms/step - loss: 0.4557 - accuracy: 0.7846\n",
      "Epoch 32/200\n",
      "177/177 [==============================] - 1s 5ms/step - loss: 0.4532 - accuracy: 0.7856\n",
      "Epoch 33/200\n",
      "177/177 [==============================] - 1s 5ms/step - loss: 0.4559 - accuracy: 0.7831\n",
      "Epoch 34/200\n",
      "177/177 [==============================] - 1s 5ms/step - loss: 0.4526 - accuracy: 0.7867\n",
      "Epoch 35/200\n",
      "177/177 [==============================] - 1s 4ms/step - loss: 0.4540 - accuracy: 0.7819\n",
      "Epoch 36/200\n",
      "177/177 [==============================] - 1s 4ms/step - loss: 0.4516 - accuracy: 0.7876\n",
      "Epoch 37/200\n",
      "177/177 [==============================] - 1s 4ms/step - loss: 0.4521 - accuracy: 0.7863\n",
      "Epoch 38/200\n",
      "177/177 [==============================] - 1s 4ms/step - loss: 0.4494 - accuracy: 0.7913\n",
      "Epoch 39/200\n",
      "177/177 [==============================] - 1s 5ms/step - loss: 0.4545 - accuracy: 0.7846\n",
      "Epoch 40/200\n",
      "177/177 [==============================] - 1s 4ms/step - loss: 0.4503 - accuracy: 0.7858\n",
      "Epoch 41/200\n",
      "177/177 [==============================] - 1s 5ms/step - loss: 0.4504 - accuracy: 0.7860\n",
      "Epoch 42/200\n",
      "177/177 [==============================] - 1s 5ms/step - loss: 0.4457 - accuracy: 0.7847\n",
      "Epoch 43/200\n",
      "177/177 [==============================] - 1s 5ms/step - loss: 0.4470 - accuracy: 0.7872\n",
      "Epoch 44/200\n",
      "177/177 [==============================] - 1s 4ms/step - loss: 0.4468 - accuracy: 0.7847\n",
      "Epoch 45/200\n",
      "177/177 [==============================] - 1s 4ms/step - loss: 0.4457 - accuracy: 0.7906\n",
      "Epoch 46/200\n",
      "177/177 [==============================] - 1s 4ms/step - loss: 0.4486 - accuracy: 0.7846\n",
      "Epoch 47/200\n",
      "177/177 [==============================] - 1s 5ms/step - loss: 0.4493 - accuracy: 0.7860\n",
      "Epoch 48/200\n",
      "177/177 [==============================] - 1s 4ms/step - loss: 0.4451 - accuracy: 0.7862\n",
      "Epoch 49/200\n",
      "177/177 [==============================] - 1s 4ms/step - loss: 0.4477 - accuracy: 0.7826\n",
      "Epoch 50/200\n",
      "177/177 [==============================] - 1s 4ms/step - loss: 0.4472 - accuracy: 0.7890\n",
      "Epoch 51/200\n",
      "177/177 [==============================] - 1s 5ms/step - loss: 0.4458 - accuracy: 0.7856\n",
      "Epoch 52/200\n",
      "177/177 [==============================] - 1s 5ms/step - loss: 0.4473 - accuracy: 0.7906\n",
      "Epoch 53/200\n",
      "177/177 [==============================] - 1s 5ms/step - loss: 0.4449 - accuracy: 0.7872\n",
      "Epoch 54/200\n",
      "177/177 [==============================] - 1s 5ms/step - loss: 0.4464 - accuracy: 0.7883\n",
      "Epoch 55/200\n",
      "177/177 [==============================] - 1s 4ms/step - loss: 0.4471 - accuracy: 0.7844\n",
      "Epoch 56/200\n",
      "177/177 [==============================] - 1s 4ms/step - loss: 0.4465 - accuracy: 0.7872\n",
      "Epoch 57/200\n",
      "177/177 [==============================] - 1s 5ms/step - loss: 0.4429 - accuracy: 0.7892\n",
      "Epoch 58/200\n",
      "177/177 [==============================] - 1s 5ms/step - loss: 0.4459 - accuracy: 0.7865\n",
      "Epoch 59/200\n",
      "177/177 [==============================] - 1s 4ms/step - loss: 0.4437 - accuracy: 0.7920\n",
      "Epoch 60/200\n",
      "177/177 [==============================] - 1s 4ms/step - loss: 0.4431 - accuracy: 0.7886\n",
      "Epoch 61/200\n",
      "177/177 [==============================] - 1s 4ms/step - loss: 0.4428 - accuracy: 0.7881\n",
      "Epoch 62/200\n",
      "177/177 [==============================] - 1s 5ms/step - loss: 0.4436 - accuracy: 0.7833\n",
      "Epoch 63/200\n",
      "177/177 [==============================] - 1s 4ms/step - loss: 0.4441 - accuracy: 0.7862\n",
      "Epoch 64/200\n",
      "177/177 [==============================] - 1s 5ms/step - loss: 0.4429 - accuracy: 0.7913\n",
      "Epoch 65/200\n",
      "177/177 [==============================] - 1s 4ms/step - loss: 0.4433 - accuracy: 0.7872\n",
      "Epoch 66/200\n",
      "177/177 [==============================] - 1s 4ms/step - loss: 0.4430 - accuracy: 0.7886\n",
      "Epoch 67/200\n",
      "177/177 [==============================] - 1s 4ms/step - loss: 0.4491 - accuracy: 0.7821\n",
      "Epoch 68/200\n",
      "177/177 [==============================] - 1s 4ms/step - loss: 0.4393 - accuracy: 0.7886\n",
      "Epoch 69/200\n",
      "177/177 [==============================] - 1s 4ms/step - loss: 0.4375 - accuracy: 0.7936\n",
      "Epoch 70/200\n",
      "177/177 [==============================] - 1s 4ms/step - loss: 0.4444 - accuracy: 0.7869\n",
      "Epoch 71/200\n",
      "177/177 [==============================] - 1s 4ms/step - loss: 0.4377 - accuracy: 0.7897\n",
      "Epoch 72/200\n",
      "177/177 [==============================] - 1s 4ms/step - loss: 0.4408 - accuracy: 0.7901\n",
      "Epoch 73/200\n",
      "177/177 [==============================] - 1s 4ms/step - loss: 0.4385 - accuracy: 0.7917\n",
      "Epoch 74/200\n",
      "177/177 [==============================] - 1s 5ms/step - loss: 0.4398 - accuracy: 0.7902\n",
      "Epoch 75/200\n",
      "177/177 [==============================] - 1s 5ms/step - loss: 0.4390 - accuracy: 0.7915\n",
      "Epoch 76/200\n",
      "177/177 [==============================] - 1s 4ms/step - loss: 0.4368 - accuracy: 0.7925\n",
      "Epoch 77/200\n",
      "177/177 [==============================] - 1s 5ms/step - loss: 0.4381 - accuracy: 0.7881\n",
      "Epoch 78/200\n",
      "177/177 [==============================] - 1s 5ms/step - loss: 0.4400 - accuracy: 0.7913\n",
      "Epoch 79/200\n",
      "177/177 [==============================] - 1s 4ms/step - loss: 0.4383 - accuracy: 0.7894\n",
      "Epoch 80/200\n",
      "177/177 [==============================] - 1s 5ms/step - loss: 0.4380 - accuracy: 0.7947\n",
      "Epoch 81/200\n",
      "177/177 [==============================] - 1s 4ms/step - loss: 0.4381 - accuracy: 0.7895\n",
      "Epoch 82/200\n",
      "177/177 [==============================] - 1s 4ms/step - loss: 0.4341 - accuracy: 0.7945\n",
      "Epoch 83/200\n",
      "177/177 [==============================] - 1s 4ms/step - loss: 0.4389 - accuracy: 0.7959\n",
      "Epoch 84/200\n",
      "177/177 [==============================] - 1s 4ms/step - loss: 0.4358 - accuracy: 0.7924\n",
      "Epoch 85/200\n",
      "177/177 [==============================] - 1s 5ms/step - loss: 0.4383 - accuracy: 0.7890\n",
      "Epoch 86/200\n",
      "177/177 [==============================] - 1s 4ms/step - loss: 0.4403 - accuracy: 0.7885\n",
      "Epoch 87/200\n",
      "177/177 [==============================] - 1s 5ms/step - loss: 0.4364 - accuracy: 0.7933\n",
      "Epoch 88/200\n",
      "177/177 [==============================] - 1s 4ms/step - loss: 0.4353 - accuracy: 0.7931\n",
      "Epoch 89/200\n",
      "177/177 [==============================] - 1s 4ms/step - loss: 0.4341 - accuracy: 0.7966\n",
      "Epoch 90/200\n",
      "177/177 [==============================] - 1s 5ms/step - loss: 0.4367 - accuracy: 0.7949\n",
      "Epoch 91/200\n",
      "177/177 [==============================] - 1s 5ms/step - loss: 0.4354 - accuracy: 0.7904\n",
      "Epoch 92/200\n",
      "177/177 [==============================] - 1s 4ms/step - loss: 0.4376 - accuracy: 0.7934\n",
      "Epoch 93/200\n",
      "177/177 [==============================] - 1s 5ms/step - loss: 0.4387 - accuracy: 0.7949\n",
      "Epoch 94/200\n",
      "177/177 [==============================] - 1s 5ms/step - loss: 0.4358 - accuracy: 0.7956\n",
      "Epoch 95/200\n",
      "177/177 [==============================] - 1s 5ms/step - loss: 0.4341 - accuracy: 0.7949\n",
      "Epoch 96/200\n",
      "177/177 [==============================] - 1s 4ms/step - loss: 0.4327 - accuracy: 0.7934\n",
      "Epoch 97/200\n",
      "177/177 [==============================] - 1s 4ms/step - loss: 0.4351 - accuracy: 0.7947\n",
      "Epoch 98/200\n",
      "177/177 [==============================] - 1s 5ms/step - loss: 0.4337 - accuracy: 0.7943\n",
      "Epoch 99/200\n",
      "177/177 [==============================] - 1s 5ms/step - loss: 0.4346 - accuracy: 0.7931\n",
      "Epoch 100/200\n",
      "177/177 [==============================] - 1s 4ms/step - loss: 0.4354 - accuracy: 0.7938\n",
      "Epoch 101/200\n",
      "177/177 [==============================] - 1s 4ms/step - loss: 0.4348 - accuracy: 0.7929\n",
      "Epoch 102/200\n",
      "177/177 [==============================] - 1s 6ms/step - loss: 0.4332 - accuracy: 0.7920\n",
      "Epoch 103/200\n",
      "177/177 [==============================] - 1s 5ms/step - loss: 0.4334 - accuracy: 0.7913\n",
      "Epoch 104/200\n",
      "177/177 [==============================] - 1s 6ms/step - loss: 0.4343 - accuracy: 0.7943\n",
      "Epoch 105/200\n",
      "177/177 [==============================] - 1s 6ms/step - loss: 0.4334 - accuracy: 0.7961\n",
      "Epoch 106/200\n",
      "177/177 [==============================] - 1s 6ms/step - loss: 0.4323 - accuracy: 0.7993\n",
      "Epoch 107/200\n",
      "177/177 [==============================] - 1s 4ms/step - loss: 0.4332 - accuracy: 0.7996\n",
      "Epoch 108/200\n",
      "177/177 [==============================] - 1s 4ms/step - loss: 0.4337 - accuracy: 0.7917\n",
      "Epoch 109/200\n",
      "177/177 [==============================] - 1s 5ms/step - loss: 0.4302 - accuracy: 0.7941\n",
      "Epoch 110/200\n",
      "177/177 [==============================] - 1s 4ms/step - loss: 0.4329 - accuracy: 0.7888\n",
      "Epoch 111/200\n",
      "177/177 [==============================] - 1s 4ms/step - loss: 0.4311 - accuracy: 0.7957\n",
      "Epoch 112/200\n",
      "177/177 [==============================] - 1s 4ms/step - loss: 0.4348 - accuracy: 0.7886\n",
      "Epoch 113/200\n",
      "177/177 [==============================] - 1s 5ms/step - loss: 0.4338 - accuracy: 0.7911\n",
      "Epoch 114/200\n",
      "177/177 [==============================] - 1s 5ms/step - loss: 0.4343 - accuracy: 0.7936\n",
      "Epoch 115/200\n",
      "177/177 [==============================] - 1s 4ms/step - loss: 0.4302 - accuracy: 0.7957\n",
      "Epoch 116/200\n",
      "177/177 [==============================] - 1s 4ms/step - loss: 0.4312 - accuracy: 0.7991\n",
      "Epoch 117/200\n",
      "177/177 [==============================] - 1s 4ms/step - loss: 0.4311 - accuracy: 0.7922\n",
      "Epoch 118/200\n",
      "177/177 [==============================] - 1s 5ms/step - loss: 0.4325 - accuracy: 0.7966\n",
      "Epoch 119/200\n",
      "177/177 [==============================] - 1s 4ms/step - loss: 0.4292 - accuracy: 0.7989\n",
      "Epoch 120/200\n",
      "177/177 [==============================] - 1s 4ms/step - loss: 0.4335 - accuracy: 0.7901\n",
      "Epoch 121/200\n",
      "177/177 [==============================] - 1s 4ms/step - loss: 0.4295 - accuracy: 0.8002\n",
      "Epoch 122/200\n",
      "177/177 [==============================] - 1s 4ms/step - loss: 0.4308 - accuracy: 0.7950\n",
      "Epoch 123/200\n",
      "177/177 [==============================] - 1s 4ms/step - loss: 0.4300 - accuracy: 0.7975\n",
      "Epoch 124/200\n",
      "177/177 [==============================] - 1s 4ms/step - loss: 0.4298 - accuracy: 0.7984\n",
      "Epoch 125/200\n",
      "177/177 [==============================] - 1s 4ms/step - loss: 0.4269 - accuracy: 0.7986\n",
      "Epoch 126/200\n",
      "177/177 [==============================] - 1s 5ms/step - loss: 0.4354 - accuracy: 0.7934\n",
      "Epoch 127/200\n",
      "177/177 [==============================] - 1s 5ms/step - loss: 0.4295 - accuracy: 0.7984\n",
      "Epoch 128/200\n",
      "177/177 [==============================] - 1s 5ms/step - loss: 0.4292 - accuracy: 0.7961\n",
      "Epoch 129/200\n",
      "177/177 [==============================] - 1s 4ms/step - loss: 0.4304 - accuracy: 0.7963\n",
      "Epoch 130/200\n",
      "177/177 [==============================] - 1s 5ms/step - loss: 0.4315 - accuracy: 0.7982\n",
      "Epoch 131/200\n",
      "177/177 [==============================] - 1s 5ms/step - loss: 0.4333 - accuracy: 0.7957\n",
      "Epoch 132/200\n",
      "177/177 [==============================] - 1s 5ms/step - loss: 0.4300 - accuracy: 0.7959\n",
      "Epoch 133/200\n",
      "177/177 [==============================] - 1s 6ms/step - loss: 0.4306 - accuracy: 0.7979\n",
      "Epoch 134/200\n",
      "177/177 [==============================] - 1s 5ms/step - loss: 0.4277 - accuracy: 0.7936\n",
      "Epoch 135/200\n",
      "177/177 [==============================] - 1s 4ms/step - loss: 0.4300 - accuracy: 0.7982\n",
      "Epoch 136/200\n",
      "177/177 [==============================] - 1s 4ms/step - loss: 0.4270 - accuracy: 0.7961\n",
      "Epoch 137/200\n",
      "177/177 [==============================] - 1s 4ms/step - loss: 0.4322 - accuracy: 0.7918\n",
      "Epoch 138/200\n",
      "177/177 [==============================] - 1s 4ms/step - loss: 0.4298 - accuracy: 0.7973\n",
      "Epoch 139/200\n",
      "177/177 [==============================] - 1s 5ms/step - loss: 0.4268 - accuracy: 0.7975\n",
      "Epoch 140/200\n",
      "177/177 [==============================] - 1s 5ms/step - loss: 0.4294 - accuracy: 0.7982\n",
      "Epoch 141/200\n",
      "177/177 [==============================] - 1s 4ms/step - loss: 0.4281 - accuracy: 0.7941\n",
      "Epoch 142/200\n",
      "177/177 [==============================] - 1s 4ms/step - loss: 0.4308 - accuracy: 0.7963\n",
      "Epoch 143/200\n",
      "177/177 [==============================] - 1s 4ms/step - loss: 0.4290 - accuracy: 0.7931\n",
      "Epoch 144/200\n",
      "177/177 [==============================] - 1s 4ms/step - loss: 0.4260 - accuracy: 0.7917\n",
      "Epoch 145/200\n",
      "177/177 [==============================] - 1s 4ms/step - loss: 0.4282 - accuracy: 0.7988\n",
      "Epoch 146/200\n",
      "177/177 [==============================] - 1s 4ms/step - loss: 0.4279 - accuracy: 0.7963\n",
      "Epoch 147/200\n",
      "177/177 [==============================] - 1s 4ms/step - loss: 0.4235 - accuracy: 0.8012\n",
      "Epoch 148/200\n",
      "177/177 [==============================] - 1s 5ms/step - loss: 0.4261 - accuracy: 0.7949\n",
      "Epoch 149/200\n",
      "177/177 [==============================] - 1s 4ms/step - loss: 0.4296 - accuracy: 0.7947\n",
      "Epoch 150/200\n",
      "177/177 [==============================] - 1s 4ms/step - loss: 0.4268 - accuracy: 0.7986\n",
      "Epoch 151/200\n",
      "177/177 [==============================] - 1s 5ms/step - loss: 0.4265 - accuracy: 0.7982\n",
      "Epoch 152/200\n",
      "177/177 [==============================] - 1s 4ms/step - loss: 0.4274 - accuracy: 0.7989\n",
      "Epoch 153/200\n",
      "177/177 [==============================] - 1s 5ms/step - loss: 0.4241 - accuracy: 0.7995\n",
      "Epoch 154/200\n",
      "177/177 [==============================] - 1s 4ms/step - loss: 0.4269 - accuracy: 0.7984\n",
      "Epoch 155/200\n",
      "177/177 [==============================] - 1s 4ms/step - loss: 0.4300 - accuracy: 0.7980\n",
      "Epoch 156/200\n",
      "177/177 [==============================] - 1s 4ms/step - loss: 0.4265 - accuracy: 0.8023\n",
      "Epoch 157/200\n",
      "177/177 [==============================] - 1s 4ms/step - loss: 0.4299 - accuracy: 0.7965\n",
      "Epoch 158/200\n",
      "177/177 [==============================] - 1s 4ms/step - loss: 0.4296 - accuracy: 0.7925\n",
      "Epoch 159/200\n",
      "177/177 [==============================] - 1s 4ms/step - loss: 0.4270 - accuracy: 0.7993\n",
      "Epoch 160/200\n",
      "177/177 [==============================] - 1s 4ms/step - loss: 0.4285 - accuracy: 0.7933\n",
      "Epoch 161/200\n",
      "177/177 [==============================] - 1s 4ms/step - loss: 0.4295 - accuracy: 0.7934\n",
      "Epoch 162/200\n",
      "177/177 [==============================] - 1s 4ms/step - loss: 0.4254 - accuracy: 0.7963\n",
      "Epoch 163/200\n",
      "177/177 [==============================] - 1s 4ms/step - loss: 0.4292 - accuracy: 0.7949\n",
      "Epoch 164/200\n",
      "177/177 [==============================] - 1s 4ms/step - loss: 0.4258 - accuracy: 0.7945\n",
      "Epoch 165/200\n",
      "177/177 [==============================] - 1s 5ms/step - loss: 0.4243 - accuracy: 0.7995\n",
      "Epoch 166/200\n",
      "177/177 [==============================] - 1s 5ms/step - loss: 0.4255 - accuracy: 0.7993\n",
      "Epoch 167/200\n",
      "177/177 [==============================] - 1s 4ms/step - loss: 0.4279 - accuracy: 0.7968\n",
      "Epoch 168/200\n",
      "177/177 [==============================] - 1s 4ms/step - loss: 0.4260 - accuracy: 0.7959\n",
      "Epoch 169/200\n",
      "177/177 [==============================] - 1s 4ms/step - loss: 0.4250 - accuracy: 0.7965\n",
      "Epoch 170/200\n",
      "177/177 [==============================] - 1s 4ms/step - loss: 0.4310 - accuracy: 0.7929\n",
      "Epoch 171/200\n",
      "177/177 [==============================] - 1s 5ms/step - loss: 0.4252 - accuracy: 0.8005\n",
      "Epoch 172/200\n",
      "177/177 [==============================] - 1s 4ms/step - loss: 0.4281 - accuracy: 0.7980\n",
      "Epoch 173/200\n",
      "177/177 [==============================] - 1s 5ms/step - loss: 0.4244 - accuracy: 0.7986\n",
      "Epoch 174/200\n",
      "177/177 [==============================] - 1s 5ms/step - loss: 0.4293 - accuracy: 0.7968\n",
      "Epoch 175/200\n",
      "177/177 [==============================] - 1s 5ms/step - loss: 0.4287 - accuracy: 0.7977\n",
      "Epoch 176/200\n",
      "177/177 [==============================] - 1s 5ms/step - loss: 0.4234 - accuracy: 0.7996\n",
      "Epoch 177/200\n",
      "177/177 [==============================] - 1s 5ms/step - loss: 0.4270 - accuracy: 0.7915\n",
      "Epoch 178/200\n",
      "177/177 [==============================] - 1s 4ms/step - loss: 0.4279 - accuracy: 0.7998\n",
      "Epoch 179/200\n",
      "177/177 [==============================] - 1s 5ms/step - loss: 0.4246 - accuracy: 0.8002\n",
      "Epoch 180/200\n",
      "177/177 [==============================] - 1s 4ms/step - loss: 0.4267 - accuracy: 0.8004\n",
      "Epoch 181/200\n",
      "177/177 [==============================] - 1s 5ms/step - loss: 0.4266 - accuracy: 0.7970\n",
      "Epoch 182/200\n",
      "177/177 [==============================] - 1s 5ms/step - loss: 0.4243 - accuracy: 0.8007\n",
      "Epoch 183/200\n",
      "177/177 [==============================] - 1s 5ms/step - loss: 0.4293 - accuracy: 0.7901\n",
      "Epoch 184/200\n",
      "177/177 [==============================] - 1s 4ms/step - loss: 0.4271 - accuracy: 0.7979\n",
      "Epoch 185/200\n",
      "177/177 [==============================] - 1s 5ms/step - loss: 0.4275 - accuracy: 0.7943\n",
      "Epoch 186/200\n",
      "177/177 [==============================] - 1s 5ms/step - loss: 0.4266 - accuracy: 0.7970\n",
      "Epoch 187/200\n",
      "177/177 [==============================] - 1s 5ms/step - loss: 0.4325 - accuracy: 0.7947\n",
      "Epoch 188/200\n",
      "177/177 [==============================] - 1s 5ms/step - loss: 0.4260 - accuracy: 0.7979\n",
      "Epoch 189/200\n",
      "177/177 [==============================] - 1s 5ms/step - loss: 0.4238 - accuracy: 0.7982\n",
      "Epoch 190/200\n",
      "177/177 [==============================] - 1s 5ms/step - loss: 0.4238 - accuracy: 0.8023\n",
      "Epoch 191/200\n",
      "177/177 [==============================] - 1s 4ms/step - loss: 0.4244 - accuracy: 0.8028\n",
      "Epoch 192/200\n",
      "177/177 [==============================] - 1s 5ms/step - loss: 0.4254 - accuracy: 0.7938\n",
      "Epoch 193/200\n",
      "177/177 [==============================] - 1s 6ms/step - loss: 0.4235 - accuracy: 0.7961\n",
      "Epoch 194/200\n",
      "177/177 [==============================] - 1s 6ms/step - loss: 0.4268 - accuracy: 0.7973\n",
      "Epoch 195/200\n",
      "177/177 [==============================] - 1s 5ms/step - loss: 0.4232 - accuracy: 0.7995\n",
      "Epoch 196/200\n",
      "177/177 [==============================] - 1s 5ms/step - loss: 0.4249 - accuracy: 0.7961\n",
      "Epoch 197/200\n",
      "177/177 [==============================] - 1s 5ms/step - loss: 0.4258 - accuracy: 0.7975\n",
      "Epoch 198/200\n",
      "177/177 [==============================] - 1s 5ms/step - loss: 0.4240 - accuracy: 0.8025\n",
      "Epoch 199/200\n",
      "177/177 [==============================] - 1s 4ms/step - loss: 0.4267 - accuracy: 0.7989\n",
      "Epoch 200/200\n",
      "177/177 [==============================] - 1s 5ms/step - loss: 0.4235 - accuracy: 0.7979\n"
     ]
    },
    {
     "data": {
      "text/plain": [
       "<keras.callbacks.History at 0x177bd36afd0>"
      ]
     },
     "execution_count": 9,
     "metadata": {},
     "output_type": "execute_result"
    }
   ],
   "source": [
    "model.fit(X_train, y_train, epochs=200, batch_size=32)"
   ]
  },
  {
   "cell_type": "code",
   "execution_count": 10,
   "metadata": {},
   "outputs": [
    {
     "name": "stdout",
     "output_type": "stream",
     "text": [
      "45/45 [==============================] - 0s 4ms/step\n"
     ]
    }
   ],
   "source": [
    "y_hat = model.predict(X_test)\n",
    "y_hat = [0 if val < 0.5 else 1 for val in y_hat]"
   ]
  },
  {
   "cell_type": "code",
   "execution_count": 11,
   "metadata": {},
   "outputs": [
    {
     "data": {
      "text/plain": [
       "0.5975869410929737"
      ]
     },
     "execution_count": 11,
     "metadata": {},
     "output_type": "execute_result"
    }
   ],
   "source": [
    "accuracy_score(y_test, y_hat)"
   ]
  },
  {
   "cell_type": "markdown",
   "metadata": {},
   "source": [
    "# 4. Saving and Reloading"
   ]
  },
  {
   "cell_type": "code",
   "execution_count": 12,
   "metadata": {
    "collapsed": true
   },
   "outputs": [
    {
     "name": "stdout",
     "output_type": "stream",
     "text": [
      "INFO:tensorflow:Assets written to: tfmodel\\assets\n"
     ]
    }
   ],
   "source": [
    "model.save('tfmodel')"
   ]
  },
  {
   "cell_type": "code",
   "execution_count": 13,
   "metadata": {},
   "outputs": [],
   "source": [
    "del model "
   ]
  },
  {
   "cell_type": "code",
   "execution_count": 14,
   "metadata": {},
   "outputs": [],
   "source": [
    "model = load_model('tfmodel')"
   ]
  }
 ],
 "metadata": {
  "kernelspec": {
   "display_name": "Python 3.8.13 ('testMLFLOWDaniv1')",
   "language": "python",
   "name": "python3"
  },
  "language_info": {
   "codemirror_mode": {
    "name": "ipython",
    "version": 3
   },
   "file_extension": ".py",
   "mimetype": "text/x-python",
   "name": "python",
   "nbconvert_exporter": "python",
   "pygments_lexer": "ipython3",
   "version": "3.8.13"
  },
  "vscode": {
   "interpreter": {
    "hash": "53427398f225cb2458fb98aea0644913d93378e04436a302fc03b834be56964c"
   }
  }
 },
 "nbformat": 4,
 "nbformat_minor": 2
}
